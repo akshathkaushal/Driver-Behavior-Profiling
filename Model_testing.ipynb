{
  "nbformat": 4,
  "nbformat_minor": 0,
  "metadata": {
    "colab": {
      "name": "IOT_Project_Model_testing.ipynb",
      "provenance": [],
      "collapsed_sections": []
    },
    "kernelspec": {
      "name": "python3",
      "display_name": "Python 3"
    },
    "language_info": {
      "name": "python"
    },
    "accelerator": "GPU"
  },
  "cells": [
    {
      "cell_type": "code",
      "metadata": {
        "id": "3iAg-yp-kyVk"
      },
      "source": [
        "import pandas as pd\n",
        "pd.set_option('display.max_columns',None)\n",
        "import numpy as np\n",
        "import matplotlib.pyplot as plt\n",
        "import pickle\n",
        "\n",
        "from google.colab import auth\n",
        "auth.authenticate_user()\n",
        "import gspread\n",
        "from oauth2client.client import GoogleCredentials\n",
        "from IPython.display import clear_output\n"
      ],
      "execution_count": null,
      "outputs": []
    },
    {
      "cell_type": "code",
      "metadata": {
        "id": "ah-LmxvMlmBi"
      },
      "source": [
        "gc = gspread.authorize(GoogleCredentials.get_application_default())\n",
        "\n",
        "# importing model\n",
        "filename=\"/content/drive/MyDrive/6th Sem IOT/project/model_v2.h5\"\n",
        "model = pickle.load(open(filename, 'rb'))\n",
        "\n",
        "# predictions\n",
        "results = []"
      ],
      "execution_count": null,
      "outputs": []
    },
    {
      "cell_type": "code",
      "metadata": {
        "id": "3WY_6Em2AhZ0",
        "colab": {
          "base_uri": "https://localhost:8080/"
        },
        "outputId": "2e5a8fe6-28d6-4d88-e63d-deb6a4c82695"
      },
      "source": [
        "l=1\n",
        "\n",
        "try:\n",
        "  while(1):\n",
        "\n",
        "    clear_output(wait=True)\n",
        "\n",
        "    worksheet = gc.open('App Database (Responses)').sheet1\n",
        "    rows = worksheet.get_all_values()\n",
        "    db = pd.DataFrame.from_records(rows)\n",
        "    \n",
        "    if(l>=len(db)):\n",
        "      print(\"Insufficient rows!\")\n",
        "      continue\n",
        "    \n",
        "\n",
        "    db = db.iloc[l:l+5, 1:] \n",
        "    db.columns = ['linear_acc_x', 'linear_acc_y', 'linear_acc_z', 'triaxis_acc_x', 'triaxis_acc_y', 'triaxis_acc_z', 'gyro_x', 'gyro_y', 'gyro_z']\n",
        "    db.replace(\"\", np.nan, inplace=True)\n",
        "    db = db.dropna()\n",
        "    db[db.columns] = db[db.columns].astype(float)\n",
        "    #print(db.head())\n",
        "    ans = model.predict(db)\n",
        "    results.append(ans)\n",
        "    l = l+5\n",
        "\n",
        "    if(0 in ans):\n",
        "      print(\"non-aggressive event\")\n",
        "    if(1 in ans):\n",
        "      print(\"aggressive right curve\")\n",
        "    if(2 in ans):\n",
        "      print(\"aggressive left curve\")\n",
        "    if(3 in ans):\n",
        "      print(\"change aggressive right lane\")\n",
        "    if(4 in ans):\n",
        "      print(\"change aggressive left lane\")\n",
        "    if(5 in ans):\n",
        "      print(\"aggresive breaking\")\n",
        "    if(6 in ans):\n",
        "      print(\"aggresive acceleration\")\n",
        "    if(7 in ans):\n",
        "      print(\"normal driving\")\n",
        "    \n",
        "    \n",
        "\n",
        "    #print(l)\n",
        "    #print(ans)\n",
        "\n",
        "\n",
        "except KeyboardInterrupt:\n",
        "  pass\n"
      ],
      "execution_count": null,
      "outputs": [
        {
          "output_type": "stream",
          "text": [
            "Insufficient rows!\n"
          ],
          "name": "stdout"
        }
      ]
    },
    {
      "cell_type": "code",
      "metadata": {
        "colab": {
          "base_uri": "https://localhost:8080/"
        },
        "id": "a2KlUj75Wj2W",
        "outputId": "ce0177a6-bfa8-4970-f6f8-4d8b94ae5258"
      },
      "source": [
        "# gives errors\n",
        "worksheet = gc.open('App Database (Responses)').sheet1\n",
        "worksheet.clear()"
      ],
      "execution_count": null,
      "outputs": [
        {
          "output_type": "execute_result",
          "data": {
            "text/plain": [
              "{'clearedRange': \"'Form Responses 1'!A1:P333\",\n",
              " 'spreadsheetId': '15exvSdw0K1grORj9Rc-DOn7B9m8DQXsUd6lM-stiprA'}"
            ]
          },
          "metadata": {
            "tags": []
          },
          "execution_count": 5
        }
      ]
    }
  ]
}